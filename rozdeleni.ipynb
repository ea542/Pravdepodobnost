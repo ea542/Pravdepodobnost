{
 "cells": [
  {
   "cell_type": "markdown",
   "id": "ac2b9c25-84b7-4fe1-8602-2a9b0d6cfd40",
   "metadata": {},
   "source": [
    "# Rozdělení náhodných veličin v modulu *scipy.stats*"
   ]
  },
  {
   "cell_type": "code",
   "execution_count": 1,
   "id": "8e07f992-3106-4ad3-bb1a-187eef3d361e",
   "metadata": {},
   "outputs": [],
   "source": [
    "# načtení modulů\n",
    "import numpy as np                   # balík pro práci s poli \n",
    "from scipy import stats              # modul pro práci s rozděleními náhodných veličin \n",
    "from matplotlib import pyplot as plt # modul pro práci s grafy"
   ]
  },
  {
   "cell_type": "markdown",
   "id": "1e391692-6c9e-4a74-8d13-a009da4fa744",
   "metadata": {},
   "source": [
    "## Modul *scipy.stats*"
   ]
  },
  {
   "cell_type": "markdown",
   "id": "be4ea68b-a61b-4e8e-aafe-93d4ad0b1799",
   "metadata": {},
   "source": [
    "Modul *scipy.stats* obsahuje třídy reprezentující jednotlivá vybraná rozdělení.\n",
    "<table align=\"left\">\n",
    "    <tr> <td> stats.binom </td> <td> binomické rozdělení </td> </tr>\n",
    "    <tr> <td> stats.nbinom  </td> <td>  negativně binomické rozdělení <sup>*)</sup> </td>  </tr> \n",
    "    <tr> <td> stats.geom  </td> <td>  geometrické rozdělení </td>  </tr>\n",
    "    <tr> <td> stats.hypergeom  </td> <td>  hypergeometrické rozdělení </td> </tr>\n",
    "    <tr> <td> stats.poisson  </td> <td>  Poissnovo rozdělení </td> </tr>\n",
    "    <tr> <td> stats.uniform </td> <td> rovnoměrné rozdělení </td> </tr>\n",
    "    <tr> <td> stats.norm </td> <td> normální rozdělení </td> </tr>\n",
    "    <tr> <td> stats.expon </td> <td> exponenciální rozdělení </td> </tr>\n",
    "    <tr> <td> stats.gamma </td> <td> gama rozdělení </td> </tr>\n",
    "    <tr> <td> ... </td> <td> ... </td> </tr>\n",
    "</table>  "
   ]
  },
  {
   "cell_type": "markdown",
   "id": "ea99ff33-4783-4965-af3e-81f421cda3f6",
   "metadata": {},
   "source": [
    "<sup> *) </sup> V scipy odpovídá **negativně binomická** veličina počtu **neúspěchů** před n. úspěchem. "
   ]
  },
  {
   "cell_type": "markdown",
   "id": "bd224ba9-6b41-4ec5-b0a2-f957f047d961",
   "metadata": {},
   "source": [
    "Každá třída obsahuje metody pro výpočet hodnoty distribuční funkce, pravděpodobnostní funkce (hustoty pravděpodobnosti).\n",
    "<table align=\"left\">\n",
    "<tr> <td> pmf </td> <td> pravděpodobnostní funkce (probability mass function) </td> </tr>\n",
    "<tr> <td> pdf </td> <td> hustota pravděpodobnosti (probability density function) </td> </tr>\n",
    "<tr> <td> cdf </td> <td> distribuční funkce (cumulative distribution function) </td> </tr>\n",
    "<tr> <td> ppf </td> <td> kvantilová funkce (percent point function) </td> </tr>\n",
    "<tr> <td> rvs </td> <td> generuje vzorky z rozdělení (random variates) </td> </tr> \n",
    "<tr> <td> mean </td> <td> vypočte střední hodnotu (mean) </td> </tr> \n",
    "<tr> <td> var </td> <td> vypočte rozptyl (variance) </td> </tr> \n",
    "<tr> <td> std </td> <td> vypočte směrodatnou odchylku (standard deviation) </td> </tr> \n",
    "<tr> <td> expect </td> <td> numericky vypočte střední hodnotu zadané funkce náhodné veličiny</td> </tr> \n",
    "\n",
    "</table>    "
   ]
  },
  {
   "cell_type": "code",
   "execution_count": 2,
   "id": "045b54ba-cd19-45e3-a3a9-5fb117db39df",
   "metadata": {
    "scrolled": true,
    "tags": []
   },
   "outputs": [
    {
     "data": {
      "text/plain": [
       "\u001b[0;31mSignature:\u001b[0m       \u001b[0mstats\u001b[0m\u001b[0;34m.\u001b[0m\u001b[0mbinom\u001b[0m\u001b[0;34m(\u001b[0m\u001b[0;34m*\u001b[0m\u001b[0margs\u001b[0m\u001b[0;34m,\u001b[0m \u001b[0;34m**\u001b[0m\u001b[0mkwds\u001b[0m\u001b[0;34m)\u001b[0m\u001b[0;34m\u001b[0m\u001b[0;34m\u001b[0m\u001b[0m\n",
       "\u001b[0;31mType:\u001b[0m            binom_gen\n",
       "\u001b[0;31mString form:\u001b[0m     <scipy.stats._discrete_distns.binom_gen object at 0x7f3878903820>\n",
       "\u001b[0;31mFile:\u001b[0m            ~/.local/lib/python3.8/site-packages/scipy/stats/_discrete_distns.py\n",
       "\u001b[0;31mDocstring:\u001b[0m      \n",
       "A binomial discrete random variable.\n",
       "\n",
       "As an instance of the `rv_discrete` class, `binom` object inherits from it\n",
       "a collection of generic methods (see below for the full list),\n",
       "and completes them with details specific for this particular distribution.\n",
       "\n",
       "Methods\n",
       "-------\n",
       "rvs(n, p, loc=0, size=1, random_state=None)\n",
       "    Random variates.\n",
       "pmf(k, n, p, loc=0)\n",
       "    Probability mass function.\n",
       "logpmf(k, n, p, loc=0)\n",
       "    Log of the probability mass function.\n",
       "cdf(k, n, p, loc=0)\n",
       "    Cumulative distribution function.\n",
       "logcdf(k, n, p, loc=0)\n",
       "    Log of the cumulative distribution function.\n",
       "sf(k, n, p, loc=0)\n",
       "    Survival function  (also defined as ``1 - cdf``, but `sf` is sometimes more accurate).\n",
       "logsf(k, n, p, loc=0)\n",
       "    Log of the survival function.\n",
       "ppf(q, n, p, loc=0)\n",
       "    Percent point function (inverse of ``cdf`` --- percentiles).\n",
       "isf(q, n, p, loc=0)\n",
       "    Inverse survival function (inverse of ``sf``).\n",
       "stats(n, p, loc=0, moments='mv')\n",
       "    Mean('m'), variance('v'), skew('s'), and/or kurtosis('k').\n",
       "entropy(n, p, loc=0)\n",
       "    (Differential) entropy of the RV.\n",
       "expect(func, args=(n, p), loc=0, lb=None, ub=None, conditional=False)\n",
       "    Expected value of a function (of one argument) with respect to the distribution.\n",
       "median(n, p, loc=0)\n",
       "    Median of the distribution.\n",
       "mean(n, p, loc=0)\n",
       "    Mean of the distribution.\n",
       "var(n, p, loc=0)\n",
       "    Variance of the distribution.\n",
       "std(n, p, loc=0)\n",
       "    Standard deviation of the distribution.\n",
       "interval(alpha, n, p, loc=0)\n",
       "    Endpoints of the range that contains fraction alpha [0, 1] of the\n",
       "    distribution\n",
       "\n",
       "Notes\n",
       "-----\n",
       "The probability mass function for `binom` is:\n",
       "\n",
       ".. math::\n",
       "\n",
       "   f(k) = \\binom{n}{k} p^k (1-p)^{n-k}\n",
       "\n",
       "for :math:`k \\in \\{0, 1, \\dots, n\\}`, :math:`0 \\leq p \\leq 1`\n",
       "\n",
       "`binom` takes :math:`n` and :math:`p` as shape parameters,\n",
       "where :math:`p` is the probability of a single success\n",
       "and :math:`1-p` is the probability of a single failure.\n",
       "\n",
       "The probability mass function above is defined in the \"standardized\" form.\n",
       "To shift distribution use the ``loc`` parameter.\n",
       "Specifically, ``binom.pmf(k, n, p, loc)`` is identically\n",
       "equivalent to ``binom.pmf(k - loc, n, p)``.\n",
       "\n",
       "Examples\n",
       "--------\n",
       ">>> from scipy.stats import binom\n",
       ">>> import matplotlib.pyplot as plt\n",
       ">>> fig, ax = plt.subplots(1, 1)\n",
       "\n",
       "Calculate the first four moments:\n",
       "\n",
       ">>> n, p = 5, 0.4\n",
       ">>> mean, var, skew, kurt = binom.stats(n, p, moments='mvsk')\n",
       "\n",
       "Display the probability mass function (``pmf``):\n",
       "\n",
       ">>> x = np.arange(binom.ppf(0.01, n, p),\n",
       "...               binom.ppf(0.99, n, p))\n",
       ">>> ax.plot(x, binom.pmf(x, n, p), 'bo', ms=8, label='binom pmf')\n",
       ">>> ax.vlines(x, 0, binom.pmf(x, n, p), colors='b', lw=5, alpha=0.5)\n",
       "\n",
       "Alternatively, the distribution object can be called (as a function)\n",
       "to fix the shape and location. This returns a \"frozen\" RV object holding\n",
       "the given parameters fixed.\n",
       "\n",
       "Freeze the distribution and display the frozen ``pmf``:\n",
       "\n",
       ">>> rv = binom(n, p)\n",
       ">>> ax.vlines(x, 0, rv.pmf(x), colors='k', linestyles='-', lw=1,\n",
       "...         label='frozen pmf')\n",
       ">>> ax.legend(loc='best', frameon=False)\n",
       ">>> plt.show()\n",
       "\n",
       "Check accuracy of ``cdf`` and ``ppf``:\n",
       "\n",
       ">>> prob = binom.cdf(x, n, p)\n",
       ">>> np.allclose(x, binom.ppf(prob, n, p))\n",
       "True\n",
       "\n",
       "Generate random numbers:\n",
       "\n",
       ">>> r = binom.rvs(n, p, size=1000)\n",
       "\n",
       "See Also\n",
       "--------\n",
       "hypergeom, nbinom, nhypergeom\n",
       "\u001b[0;31mClass docstring:\u001b[0m\n",
       "A binomial discrete random variable.\n",
       "\n",
       "%(before_notes)s\n",
       "\n",
       "Notes\n",
       "-----\n",
       "The probability mass function for `binom` is:\n",
       "\n",
       ".. math::\n",
       "\n",
       "   f(k) = \\binom{n}{k} p^k (1-p)^{n-k}\n",
       "\n",
       "for :math:`k \\in \\{0, 1, \\dots, n\\}`, :math:`0 \\leq p \\leq 1`\n",
       "\n",
       "`binom` takes :math:`n` and :math:`p` as shape parameters,\n",
       "where :math:`p` is the probability of a single success\n",
       "and :math:`1-p` is the probability of a single failure.\n",
       "\n",
       "%(after_notes)s\n",
       "\n",
       "%(example)s\n",
       "\n",
       "See Also\n",
       "--------\n",
       "hypergeom, nbinom, nhypergeom\n",
       "\u001b[0;31mCall docstring:\u001b[0m \n",
       "Freeze the distribution for the given arguments.\n",
       "\n",
       "Parameters\n",
       "----------\n",
       "arg1, arg2, arg3,... : array_like\n",
       "    The shape parameter(s) for the distribution.  Should include all\n",
       "    the non-optional arguments, may include ``loc`` and ``scale``.\n",
       "\n",
       "Returns\n",
       "-------\n",
       "rv_frozen : rv_frozen instance\n",
       "    The frozen distribution.\n"
      ]
     },
     "metadata": {},
     "output_type": "display_data"
    }
   ],
   "source": [
    "# podrobné informace o konkrétní třídě, parametrizace, další metody, příklady - viz nápověda \n",
    "stats.binom?"
   ]
  },
  {
   "cell_type": "code",
   "execution_count": 3,
   "id": "87173592-be79-4292-8cfb-4c27aa2eb52d",
   "metadata": {
    "scrolled": true,
    "tags": []
   },
   "outputs": [
    {
     "data": {
      "text/plain": [
       "\u001b[0;31mSignature:\u001b[0m \u001b[0mstats\u001b[0m\u001b[0;34m.\u001b[0m\u001b[0mbinom\u001b[0m\u001b[0;34m.\u001b[0m\u001b[0mpmf\u001b[0m\u001b[0;34m(\u001b[0m\u001b[0mk\u001b[0m\u001b[0;34m,\u001b[0m \u001b[0;34m*\u001b[0m\u001b[0margs\u001b[0m\u001b[0;34m,\u001b[0m \u001b[0;34m**\u001b[0m\u001b[0mkwds\u001b[0m\u001b[0;34m)\u001b[0m\u001b[0;34m\u001b[0m\u001b[0;34m\u001b[0m\u001b[0m\n",
       "\u001b[0;31mDocstring:\u001b[0m\n",
       "Probability mass function at k of the given RV.\n",
       "\n",
       "Parameters\n",
       "----------\n",
       "k : array_like\n",
       "    Quantiles.\n",
       "arg1, arg2, arg3,... : array_like\n",
       "    The shape parameter(s) for the distribution (see docstring of the\n",
       "    instance object for more information)\n",
       "loc : array_like, optional\n",
       "    Location parameter (default=0).\n",
       "\n",
       "Returns\n",
       "-------\n",
       "pmf : array_like\n",
       "    Probability mass function evaluated at k\n",
       "\u001b[0;31mFile:\u001b[0m      ~/.local/lib/python3.8/site-packages/scipy/stats/_distn_infrastructure.py\n",
       "\u001b[0;31mType:\u001b[0m      method\n"
      ]
     },
     "metadata": {},
     "output_type": "display_data"
    }
   ],
   "source": [
    "# podrobné informace o konkrétní metodě - viz nápověda\n",
    "stats.binom.pmf?"
   ]
  },
  {
   "cell_type": "code",
   "execution_count": null,
   "id": "e398c81b-1962-4a4c-9a80-bfac83b7392c",
   "metadata": {},
   "outputs": [],
   "source": []
  },
  {
   "cell_type": "markdown",
   "id": "614e3a4a-f9d1-4d96-84de-23cf695169ab",
   "metadata": {},
   "source": [
    "## Ukázky"
   ]
  },
  {
   "cell_type": "markdown",
   "id": "0b9b7df2-39a8-412e-a1f4-955ab5d14b22",
   "metadata": {},
   "source": [
    "---"
   ]
  },
  {
   "cell_type": "markdown",
   "id": "652d7d78-7b13-45b2-a3c1-e305edd123d8",
   "metadata": {},
   "source": [
    "Výpočet hodnoty distribuční binomického rozdělení s par. n=10, p=0.6 v bodě 5"
   ]
  },
  {
   "cell_type": "code",
   "execution_count": 4,
   "id": "a1f9691a-9aca-44f2-bde1-cb52efd12b55",
   "metadata": {},
   "outputs": [
    {
     "data": {
      "text/plain": [
       "0.3668967424000001"
      ]
     },
     "execution_count": 4,
     "metadata": {},
     "output_type": "execute_result"
    }
   ],
   "source": [
    "stats.binom.cdf(5, 10, 0.6)"
   ]
  },
  {
   "cell_type": "markdown",
   "id": "6a15a62f-5619-48e2-ab3c-f4722d5c3997",
   "metadata": {},
   "source": [
    "---"
   ]
  },
  {
   "cell_type": "markdown",
   "id": "8b662d27-26e2-443b-8bf7-c9f8ac2c121f",
   "metadata": {},
   "source": [
    "Určení 0.36-kvantilu binomického rozdělení s par. n=10, p=0.6"
   ]
  },
  {
   "cell_type": "code",
   "execution_count": 5,
   "id": "22dbc10f-6606-4da3-9873-b58eb346bb93",
   "metadata": {},
   "outputs": [
    {
     "data": {
      "text/plain": [
       "5.0"
      ]
     },
     "execution_count": 5,
     "metadata": {},
     "output_type": "execute_result"
    }
   ],
   "source": [
    "stats.binom.ppf(0.36, 10, 0.6)"
   ]
  },
  {
   "cell_type": "markdown",
   "id": "0b3abc60-661a-45d8-b4e6-6941a35a934a",
   "metadata": {},
   "source": [
    "---"
   ]
  },
  {
   "cell_type": "markdown",
   "id": "eae14d6a-b034-4e36-9283-1c6a4c9943da",
   "metadata": {},
   "source": [
    "Generování 15 vozrků z binomického rozdělení s par. n=10, p=0.6"
   ]
  },
  {
   "cell_type": "code",
   "execution_count": 6,
   "id": "0b0fc368-9905-41bc-b21f-9c31588aedf9",
   "metadata": {},
   "outputs": [
    {
     "data": {
      "text/plain": [
       "array([6, 6, 5, 7, 5, 7, 9, 5, 9, 7, 6, 7, 7, 6, 7])"
      ]
     },
     "execution_count": 6,
     "metadata": {},
     "output_type": "execute_result"
    }
   ],
   "source": [
    "stats.binom.rvs(10, 0.6, size=15)"
   ]
  },
  {
   "cell_type": "markdown",
   "id": "d367ba83-85f2-4965-9505-e5627add23b1",
   "metadata": {},
   "source": [
    "---"
   ]
  },
  {
   "cell_type": "markdown",
   "id": "5559dd07-7936-4d47-aa3d-33472bcb8cc5",
   "metadata": {},
   "source": [
    "Rozptyl binomického rozdělení s par. n=10, p=0.6"
   ]
  },
  {
   "cell_type": "code",
   "execution_count": 7,
   "id": "cffc69e4-84cd-41b7-b67f-f101c94c36b1",
   "metadata": {},
   "outputs": [
    {
     "data": {
      "text/plain": [
       "2.4000000000000004"
      ]
     },
     "execution_count": 7,
     "metadata": {},
     "output_type": "execute_result"
    }
   ],
   "source": [
    "stats.binom.var(10, 0.6)"
   ]
  },
  {
   "cell_type": "markdown",
   "id": "58e2a013-83e2-4de4-8431-217ab4876441",
   "metadata": {},
   "source": [
    "---"
   ]
  },
  {
   "cell_type": "markdown",
   "id": "10b1edf3-a02f-4781-9d3e-917c430c2512",
   "metadata": {},
   "source": [
    "Numerický výpočet rozptylu binomického rozdělení s par. n=10, p=0.6"
   ]
  },
  {
   "cell_type": "code",
   "execution_count": 8,
   "id": "a114a2c1-a28e-4471-97c5-617691f63e8e",
   "metadata": {},
   "outputs": [
    {
     "name": "stdout",
     "output_type": "stream",
     "text": [
      "2.40000000000002\n"
     ]
    }
   ],
   "source": [
    "E1 = stats.binom.expect(lambda x:x, args=(10, 0.6))      # E(X)\n",
    "E2 = stats.binom.expect(lambda x:x**2, args=(10, 0.6))   # E(X**2)\n",
    "D = E2-(E1)**2   # rozptyl: D=E(X**2)- (E(X))**2         \n",
    "print(D) "
   ]
  },
  {
   "cell_type": "markdown",
   "id": "c1741d4a-7fa7-4df7-a963-a8e30b87d24d",
   "metadata": {},
   "source": [
    "---"
   ]
  },
  {
   "cell_type": "markdown",
   "id": "3fca54c7-b001-4bab-b038-5f99a700f61f",
   "metadata": {},
   "source": [
    "Hodnota pravděpodobnostní funkce negativně binomické veličiny s parametry n=3, p=0.2 v bodě 5 (3. úspěch v 5. pokusu)"
   ]
  },
  {
   "cell_type": "code",
   "execution_count": 9,
   "id": "23416f94-44aa-4c23-89d6-dcb0a097159c",
   "metadata": {},
   "outputs": [
    {
     "data": {
      "text/plain": [
       "0.03071999999999998"
      ]
     },
     "execution_count": 9,
     "metadata": {},
     "output_type": "execute_result"
    }
   ],
   "source": [
    "stats.nbinom.pmf(2, 3, 0.2)  # 3. úspěch v 5. pokusu = před 3. úspěchem nastanou 2 neúspěchy"
   ]
  },
  {
   "cell_type": "code",
   "execution_count": 10,
   "id": "30f0f4dc-1173-4d25-87a4-90450c47760b",
   "metadata": {},
   "outputs": [
    {
     "data": {
      "text/plain": [
       "0.030720000000000015"
      ]
     },
     "execution_count": 10,
     "metadata": {},
     "output_type": "execute_result"
    }
   ],
   "source": [
    "4*3/(1*2)*(1-0.2)**2*0.2**3  # ruční výpočet"
   ]
  },
  {
   "cell_type": "markdown",
   "id": "3d942027-fc8f-46f5-a722-26c3903ba055",
   "metadata": {},
   "source": [
    "---"
   ]
  },
  {
   "cell_type": "markdown",
   "id": "6c0cf5f7-a903-48b5-a804-eec13127ce04",
   "metadata": {},
   "source": [
    "Graf pravděpodobnostní funkce binomického rozdělení s par. n=10, p=0.6"
   ]
  },
  {
   "cell_type": "code",
   "execution_count": 11,
   "id": "8fd408a1-7808-4e71-8673-c52295ba9835",
   "metadata": {},
   "outputs": [
    {
     "data": {
      "image/png": "[encoded data removed]",
      "text/plain": [
       "<Figure size 432x288 with 1 Axes>"
      ]
     },
     "metadata": {
      "needs_background": "light"
     },
     "output_type": "display_data"
    }
   ],
   "source": [
    "x = np.arange(11) # pole hodnot 0,...,10\n",
    "plt.plot(x, stats.binom.pmf(x, 10, 0.6), 'o')\n",
    "plt.xlabel('$x$')      # popisek osy x\n",
    "plt.ylabel('$p_x(x)$') # popisek osy y\n",
    "plt.title('Bi(10, 0.6)');"
   ]
  },
  {
   "cell_type": "markdown",
   "id": "12f8784a-f442-410e-be09-75bd41c89c61",
   "metadata": {},
   "source": [
    "---"
   ]
  },
  {
   "cell_type": "markdown",
   "id": "c04d988e-9eee-4cc0-8d6d-62be89fd13bc",
   "metadata": {},
   "source": [
    "Porovnání normalizovaného histogramu vzorků a hustoty pravděpodobnosti normovaného normálního rozdělení"
   ]
  },
  {
   "cell_type": "code",
   "execution_count": 12,
   "id": "436a4710-2bdb-4678-9e2e-025a618a91b0",
   "metadata": {},
   "outputs": [
    {
     "data": {
      "image/png": "[encoded data removed]",
      "text/plain": [
       "<Figure size 432x288 with 1 Axes>"
      ]
     },
     "metadata": {
      "needs_background": "light"
     },
     "output_type": "display_data"
    }
   ],
   "source": [
    "N = 10000\n",
    "samples = stats.norm.rvs(0, 1, size=N)    # náhodné vzorky \n",
    "plt.hist(samples, bins=20, density=True)  # vykreslení normalizovaného histogramu (density=True)\n",
    "x = np.linspace(-4, 4, 200)               # 200 rovnoměrně odstupňovaných ohodnot od -4 do 4 \n",
    "plt.plot(x, stats.norm.pdf(x, 0, 1), 'r'); # vykreslení hustoty pravděpodobnosti    "
   ]
  },
  {
   "cell_type": "markdown",
   "id": "dde3a253-3cc7-4292-9c4e-c879e7e90346",
   "metadata": {},
   "source": [
    "---"
   ]
  }
 ],
 "metadata": {
  "kernelspec": {
   "display_name": "Python 3 (ipykernel)",
   "language": "python",
   "name": "python3"
  },
  "language_info": {
   "codemirror_mode": {
    "name": "ipython",
    "version": 3
   },
   "file_extension": ".py",
   "mimetype": "text/x-python",
   "name": "python",
   "nbconvert_exporter": "python",
   "pygments_lexer": "ipython3",
   "version": "3.8.10"
  }
 },
 "nbformat": 4,
 "nbformat_minor": 5
}
