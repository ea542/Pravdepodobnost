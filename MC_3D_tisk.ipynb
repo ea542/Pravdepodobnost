{
 "cells": [
  {
   "cell_type": "markdown",
   "id": "b56d46a2-070a-4e8a-bcec-f96ca50839d5",
   "metadata": {},
   "source": [
    "Na vytištění součástky na 3D tiskárně je potřeba $k$ metrů tiskové struny. Na tiskové struně se náhodně vyskytují vady, které způsobí ucpání trysky. Průměrná vzdálenost mezi vadami je $v$ metrů. Dojde-li během tisku k ucpání trysky, je tisk ukončen a součástka se tiskne celá znovu. Kolik materiálu se průměrě spotřebuje na vytištění jedné součástky (včetně neúspšných pokusů)? "
   ]
  },
  {
   "cell_type": "markdown",
   "id": "ebbb6068-ec39-4874-a513-8aec0d3fdd1f",
   "metadata": {},
   "source": [
    "Předpokládáme, že výskyt vad na tiskové struně má charakter Poissonova procesu. Vzdálenosti mezi po sobě jdoucími vadami jsou proto vzájemně nezávislé náhodné celičiny s exponenciálním rozdělením se stř. hodnotou $1/v$."
   ]
  },
  {
   "cell_type": "markdown",
   "id": "7a23a394-c715-4cd5-989a-91c000da20f9",
   "metadata": {},
   "source": [
    "K řešení použijeme metodu Monte Carlo. "
   ]
  },
  {
   "cell_type": "markdown",
   "id": "64918557-f44f-4bbe-99df-274353dc6357",
   "metadata": {},
   "source": [
    "<br>"
   ]
  },
  {
   "cell_type": "code",
   "execution_count": 2,
   "id": "6a13fcf6-6332-4a79-8456-800bf62b519b",
   "metadata": {},
   "outputs": [],
   "source": [
    "import numpy as np\n",
    "from matplotlib import pyplot as plt\n",
    "from scipy.stats import expon, norm"
   ]
  },
  {
   "cell_type": "code",
   "execution_count": 3,
   "id": "e8148fe9-49d3-4d78-827a-2db635fffd47",
   "metadata": {},
   "outputs": [],
   "source": [
    "k = 40  # spotřeba\n",
    "v = 60  # průměrná vzdálenost mezi vadami\n"
   ]
  },
  {
   "cell_type": "code",
   "execution_count": 4,
   "id": "dc14956f-03a7-4305-b550-474fd9996418",
   "metadata": {},
   "outputs": [],
   "source": [
    "# MC\n",
    "N = 100000 # počet iterací MC\n",
    "L = np.zeros(N)    # simulované hodnoty spotřeby na úsěšný výtisk\n",
    "E = expon(scale=v)\n",
    "for i in range(N):\n",
    "    while True:\n",
    "        t = E.rvs()  \n",
    "        if t<=k: # tisk nebyl dokoncen => spotrebu zvysime o mnozstvi materialu spotrebovane do okamziku poruchy \n",
    "            L[i] = L[i]+t\n",
    "        else:    # tisk byl dokoncen => spotrebu zvysime o mnozstvi materialu spotrebovane na tisk soucastky\n",
    "            L[i] = L[i]+k\n",
    "            break\n"
   ]
  },
  {
   "cell_type": "code",
   "execution_count": 10,
   "id": "c2d56996-d350-47df-b712-da1e1a56aaac",
   "metadata": {},
   "outputs": [
    {
     "data": {
      "image/png": "[encoded data removed]",
      "text/plain": [
       "<Figure size 432x288 with 1 Axes>"
      ]
     },
     "metadata": {
      "needs_background": "light"
     },
     "output_type": "display_data"
    }
   ],
   "source": [
    "plt.hist(L, bins=200);"
   ]
  },
  {
   "cell_type": "code",
   "execution_count": 12,
   "id": "f43a4d61-781c-4151-8af1-36cf9d64cbe0",
   "metadata": {},
   "outputs": [],
   "source": [
    "m = np.mean(L)   # výběrový průměr\n",
    "s = np.std(L)    # výběrová směrodatná odchylka (odhad sm. odchylky) jedné spotřeby\n"
   ]
  },
  {
   "cell_type": "code",
   "execution_count": 33,
   "id": "7a476512-6778-4b91-86b9-abfaa66dedea",
   "metadata": {},
   "outputs": [
    {
     "name": "stdout",
     "output_type": "stream",
     "text": [
      "\n",
      "\n",
      "Odhad střední hodnoty spotřeby mnateriálu: I ≈ 56.880 m\n",
      "\n",
      "\n",
      "P(I ∈ <56.715, 57.045>) = 0.95\n",
      "\n",
      "\n"
     ]
    }
   ],
   "source": [
    "alfa = 0.05\n",
    "q = norm.ppf(1-alfa/2)  # (1-alfa/2)-kvantil N(0, 1)\n",
    "s_N = s/np.sqrt(N)   # přibližná směrodatná odchylka průměru\n",
    "d = m-s_N*q          # dolní mez +98\n",
    "h = m+s_N*q          # horní mez\n",
    "\n",
    "print(\"\\n\")\n",
    "print(\"Odhad střední hodnoty spotřeby mnateriálu: I \\u2248 {:.3f} m\".format(m))\n",
    "print(\"\\n\")\n",
    "print(\"P(I \\u2208 <{:.3f}, {:.3f}>) = {}\".format(d, h, 1-alfa))\n",
    "print(\"\\n\")\n"
   ]
  }
 ],
 "metadata": {
  "kernelspec": {
   "display_name": "Python 3",
   "language": "python",
   "name": "python3"
  },
  "language_info": {
   "codemirror_mode": {
    "name": "ipython",
    "version": 3
   },
   "file_extension": ".py",
   "mimetype": "text/x-python",
   "name": "python",
   "nbconvert_exporter": "python",
   "pygments_lexer": "ipython3",
   "version": "3.8.10"
  },
  "widgets": {
   "application/vnd.jupyter.widget-state+json": {
    "state": {},
    "version_major": 2,
    "version_minor": 0
   }
  }
 },
 "nbformat": 4,
 "nbformat_minor": 5
}
