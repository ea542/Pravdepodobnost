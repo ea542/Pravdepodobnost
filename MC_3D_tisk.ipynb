{
 "cells": [
  {
   "cell_type": "markdown",
   "id": "b56d46a2-070a-4e8a-bcec-f96ca50839d5",
   "metadata": {},
   "source": [
    "Na vytištění součástky na 3D tiskárně je potřeba $k$ metrů tiskové struny. Na tiskové struně se náhodně vyskytují vady, které způsobí ucpání trysky. Průměrná vzdálenost mezi vadami je $v$ metrů. Dojde-li během tisku k ucpání trysky, je tisk ukončen a součástka se tiskne celá znovu. Kolik materiálu se průměrě spotřebuje na vytištění jedné součástky (včetně neúspšných pokusů)? "
   ]
  },
  {
   "cell_type": "markdown",
   "id": "ebbb6068-ec39-4874-a513-8aec0d3fdd1f",
   "metadata": {},
   "source": [
    "Předpokládáme, že výskyt vad na tiskové struně má charakter Poissonova procesu. Vzdálenosti mezi po sobě jdoucími vadami jsou proto vzájemně nezávislé náhodné celičiny s exponenciálním rozdělením se stř. hodnotou $1/v$."
   ]
  },
  {
   "cell_type": "markdown",
   "id": "7a23a394-c715-4cd5-989a-91c000da20f9",
   "metadata": {},
   "source": [
    "K řešení použijeme metodu Monte Carlo. "
   ]
  },
  {
   "cell_type": "markdown",
   "id": "64918557-f44f-4bbe-99df-274353dc6357",
   "metadata": {},
   "source": [
    "<br>"
   ]
  },
  {
   "cell_type": "code",
   "execution_count": 6,
   "id": "6a13fcf6-6332-4a79-8456-800bf62b519b",
   "metadata": {},
   "outputs": [],
   "source": [
    "import numpy as np\n",
    "from matplotlib import pyplot as plt\n",
    "from scipy.stats import expon, norm"
   ]
  },
  {
   "cell_type": "code",
   "execution_count": 19,
   "id": "e8148fe9-49d3-4d78-827a-2db635fffd47",
   "metadata": {},
   "outputs": [],
   "source": [
    "k = 60  # spotřeba\n",
    "v = 40  # průměrná vzdálenost mezi vadami\n"
   ]
  },
  {
   "cell_type": "code",
   "execution_count": 20,
   "id": "dc14956f-03a7-4305-b550-474fd9996418",
   "metadata": {},
   "outputs": [],
   "source": [
    "# MC\n",
    "N = 100000 # počet iterací MC\n",
    "L = np.zeros(N)    # simulované hodnoty spotřeby na úsěšný výtisk\n",
    "E = expon(scale=v)\n",
    "for i in range(N):\n",
    "    while True:\n",
    "        t = E.rvs()  \n",
    "        #print(i, t)\n",
    "        if t<=k:\n",
    "            L[i] = L[i]+t\n",
    "        else:\n",
    "            L[i] = L[i]+k\n",
    "            break\n"
   ]
  },
  {
   "cell_type": "code",
   "execution_count": 21,
   "id": "c2d56996-d350-47df-b712-da1e1a56aaac",
   "metadata": {},
   "outputs": [
    {
     "data": {
      "image/png": "[encoded data removed]",
      "text/plain": [
       "<Figure size 432x288 with 1 Axes>"
      ]
     },
     "metadata": {
      "needs_background": "light"
     },
     "output_type": "display_data"
    }
   ],
   "source": [
    "plt.hist(L, bins=200);"
   ]
  },
  {
   "cell_type": "code",
   "execution_count": 22,
   "id": "f43a4d61-781c-4151-8af1-36cf9d64cbe0",
   "metadata": {},
   "outputs": [],
   "source": [
    "m = np.mean(L)   # výběrový průměr\n",
    "s = np.std(L)    # výběrová směrodatná odchylka (odhad sm. odchylky) jedné spotřeby\n"
   ]
  },
  {
   "cell_type": "code",
   "execution_count": 32,
   "id": "2ed2d568-af67-4ee1-ab0d-773c4cb8a045",
   "metadata": {},
   "outputs": [
    {
     "name": "stdout",
     "output_type": "stream",
     "text": [
      "\n",
      "\n",
      "Odhad střední honoty spotřeby mnateriálu:\n",
      "\n",
      "\n",
      "P(I ∈ <138.463, 139.666>) ≈ 0.954\n",
      "\n",
      "\n"
     ]
    }
   ],
   "source": [
    "c = 2\n",
    "p = 1-2*norm.cdf(-c)\n",
    "s_N = s/np.sqrt(N)   # přibližná směrodatná odchylka průměru\n",
    "d = m-c*s_N          # dolní mez \n",
    "h = m+c*s_N          # horní mez\n",
    "\n",
    "print(\"\\n\")\n",
    "print(\"Odhad střední honoty spotřeby mnateriálu:\")\n",
    "print(\"\\n\")\n",
    "print(\"P(I \\u2208 <{:.3f}, {:.3f}>) \\u2248 {:.3f}\".format(m-c*s_N, m+c*s_N, p))\n",
    "print(\"\\n\")\n",
    "\n",
    "#print(\"\\n\")\n",
    "#print(\"I \\u2248 {:.3f} \\u00B1 {:.3f}\".format(m, c*s_N))\n",
    "#print(\"\\n\")"
   ]
  },
  {
   "cell_type": "code",
   "execution_count": 26,
   "id": "a50388af-9bba-493b-a7f1-3f4e5ea8df4e",
   "metadata": {},
   "outputs": [
    {
     "data": {
      "text/plain": [
       "0.004326032758719547"
      ]
     },
     "execution_count": 26,
     "metadata": {},
     "output_type": "execute_result"
    }
   ],
   "source": [
    "c*s_N/m"
   ]
  },
  {
   "cell_type": "code",
   "execution_count": null,
   "id": "ce4a8253-949a-4dea-b9ad-ff75b5dd33bc",
   "metadata": {},
   "outputs": [],
   "source": []
  }
 ],
 "metadata": {
  "kernelspec": {
   "display_name": "Python 3",
   "language": "python",
   "name": "python3"
  },
  "language_info": {
   "codemirror_mode": {
    "name": "ipython",
    "version": 3
   },
   "file_extension": ".py",
   "mimetype": "text/x-python",
   "name": "python",
   "nbconvert_exporter": "python",
   "pygments_lexer": "ipython3",
   "version": "3.8.10"
  },
  "widgets": {
   "application/vnd.jupyter.widget-state+json": {
    "state": {},
    "version_major": 2,
    "version_minor": 0
   }
  }
 },
 "nbformat": 4,
 "nbformat_minor": 5
}
