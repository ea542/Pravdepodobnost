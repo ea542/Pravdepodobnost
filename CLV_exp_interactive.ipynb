{
 "cells": [
  {
   "cell_type": "markdown",
   "id": "5758ce71-0a3d-47f7-93e4-42e469221e92",
   "metadata": {},
   "source": [
    "# Centrální limitní věta"
   ]
  },
  {
   "cell_type": "code",
   "execution_count": 102,
   "id": "b49c11e6-0f95-4539-8299-8a89cbb1684d",
   "metadata": {},
   "outputs": [],
   "source": [
    "import numpy as np\n",
    "from matplotlib import pyplot as plt\n",
    "from scipy import stats"
   ]
  },
  {
   "cell_type": "code",
   "execution_count": 103,
   "id": "8028cfc9-06b1-4d99-86af-cba9ec5f9dc7",
   "metadata": {},
   "outputs": [],
   "source": [
    "import ipywidgets as widgets\n",
    "from ipywidgets import interact"
   ]
  },
  {
   "cell_type": "markdown",
   "id": "67d5f8da-d995-49f2-8fc0-5d5072572bd5",
   "metadata": {},
   "source": [
    "### Porovnáme histogram součtu $n$ nezávislých exponenciálních veličin s aproximací na základě centrální limitní věty."
   ]
  },
  {
   "cell_type": "code",
   "execution_count": 106,
   "id": "3d9f5aee-a175-445f-bf8e-358ce073463c",
   "metadata": {},
   "outputs": [
    {
     "data": {
      "application/vnd.jupyter.widget-view+json": {
       "model_id": "4f811eba4ce043c688b624b75180b6d0",
       "version_major": 2,
       "version_minor": 0
      },
      "text/plain": [
       "interactive(children=(IntSlider(value=1, description='n', max=50, min=1), Output()), _dom_classes=('widget-int…"
      ]
     },
     "metadata": {},
     "output_type": "display_data"
    }
   ],
   "source": [
    "n_max = 50\n",
    "@interact(n=(1, n_max))\n",
    "def CLV(n=1):\n",
    "    #k   = 1     # počet sčítanců   \n",
    "    lam = 2      # parametr exponenciálních veličin\n",
    "    k   = 10000  # počet realizací součtů\n",
    "\n",
    "    # N náhodnýhc vzorky součtů k exponenciálních veličin\n",
    "    r = stats.expon.rvs(scale=1/lam, size=(n, k)).sum(axis=0)\n",
    "\n",
    "    mu     = n*1/lam      # střední hodnota součtu\n",
    "    sigma2 = n*1/lam**2   # rozptyl součtu\n",
    "\n",
    "    plt.figure(figsize=(10, 5))\n",
    "    plt.hist(r, bins=50, density=True, alpha=0.5, label='histogram součtů');\n",
    "    xs = np.linspace(0, mu+5*sigma2**0.5, 200)\n",
    "    plt.plot(xs, stats.norm.pdf(xs, loc=mu, scale=sigma2**0.5), color='red', label='aproximace pomocí CLV')\n",
    "    plt.plot(xs, stats.gamma.pdf(xs, n, scale=1/lam), 'k', label='skutečná hustota $Ga(n, \\lambda)$')\n",
    "    plt.xlim(0, (n_max+3*n_max**0.5)*(1/lam))\n",
    "    plt.ylim(0, 1)\n",
    "    plt.title('Rozdělení součtu {} exp. veličin'.format(n))\n",
    "    plt.legend();"
   ]
  },
  {
   "cell_type": "code",
   "execution_count": 92,
   "id": "f6448b0b-e000-4ed2-b12d-a5339a52606b",
   "metadata": {},
   "outputs": [
    {
     "name": "stdout",
     "output_type": "stream",
     "text": [
      "The watermark extension is already loaded. To reload it, use:\n",
      "  %reload_ext watermark\n"
     ]
    }
   ],
   "source": [
    "%load_ext watermark"
   ]
  },
  {
   "cell_type": "code",
   "execution_count": 101,
   "id": "8fdf360f-7fea-484a-8e56-58e86117a86b",
   "metadata": {},
   "outputs": [
    {
     "name": "stdout",
     "output_type": "stream",
     "text": [
      "numpy     : 1.21.3\n",
      "scipy     : 1.7.1\n",
      "matplotlib: 3.4.3\n",
      "ipywidgets: 7.6.5\n",
      "\n"
     ]
    }
   ],
   "source": [
    "%watermark -p numpy,scipy,matplotlib,ipywidgets"
   ]
  },
  {
   "cell_type": "code",
   "execution_count": null,
   "id": "5f2de9c6-fe0b-4440-b9ae-822799b2bf4a",
   "metadata": {},
   "outputs": [],
   "source": []
  }
 ],
 "metadata": {
  "kernelspec": {
   "display_name": "Python 3 (ipykernel)",
   "language": "python",
   "name": "python3"
  },
  "language_info": {
   "codemirror_mode": {
    "name": "ipython",
    "version": 3
   },
   "file_extension": ".py",
   "mimetype": "text/x-python",
   "name": "python",
   "nbconvert_exporter": "python",
   "pygments_lexer": "ipython3",
   "version": "3.8.10"
  }
 },
 "nbformat": 4,
 "nbformat_minor": 5
}
