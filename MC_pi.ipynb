{
 "cells": [
  {
   "cell_type": "markdown",
   "id": "043e6d76-fd81-49e9-9e9b-022075fbf5c8",
   "metadata": {},
   "source": [
    "### Výpočet obsahu jednotkového kruhu metodou Monte Carlo\n",
    "Označme $\\psi_M$ charakteristickou funkci množiny $M$.\n",
    "\n",
    "$C:=\\langle -1, 1\\rangle\\times\\langle -1, 1\\rangle$\n",
    "\n",
    "$K:=\\{(x,y)\\in\\mathbb R^2:x^2+y^2\\leq 1\\}$\n",
    "\n",
    "$I:=\\iint_K 1 dxdy = \\iint_{\\mathbb R^2} \\psi_K(x,y) dxdy=\\iint_{\\mathbb R^2} 4\\psi_K(x,y)\\left(\\frac{1}{4}\\psi_C(x,y)\\right)dxdy=\n",
    "\\iint_{\\mathbb R^2} 4\\psi_K(x,y)f_{X, Y}(x, y)dxdy=\\mathrm E\\left(4\\psi_K(X, Y)\\right)$, \n",
    "\n",
    "kde $(X, Y)\\sim U\\left(\\langle -1, 1\\rangle\\times\\langle -1, 1\\rangle\\right)$, a tedy $f_{X,Y}(x,y) = \\frac{1}{4}\\psi_C(x,y)$.\n",
    "\n",
    "Pro nezávislé $(X_1, Y_1),\\ldots,(X_N, Y_N)\\sim U\\left(\\langle -1, 1\\rangle\\times\\langle -1, 1\\rangle\\right)$ označme $$I_N:=\\frac{1}{N}\\sum_{i=1}^N 4\\psi_K(X_i, Y_i).$$\n",
    "\n",
    "Podle zákona velkých čísel platí\n",
    "$$I_N\\xrightarrow{P} E(4\\psi_K(X, Y))=I.$$\n"
   ]
  },
  {
   "cell_type": "code",
   "execution_count": 2,
   "id": "92318996-5858-4ef1-9437-bc4295c4abe6",
   "metadata": {},
   "outputs": [],
   "source": [
    "# načtení modulů\n",
    "import numpy as np                   # balík pro práci s poli \n",
    "from scipy import stats              # modul pro práci s rozděleními náhodných veličin \n",
    "from matplotlib import pyplot as plt # modul pro práci s grafy"
   ]
  },
  {
   "cell_type": "code",
   "execution_count": 10,
   "id": "2f104117-6374-49ad-90c8-d9cbe579ba3b",
   "metadata": {},
   "outputs": [
    {
     "name": "stdout",
     "output_type": "stream",
     "text": [
      "I ≈ 3.141292\n"
     ]
    }
   ],
   "source": [
    "N = 10**7 # počet náhodných vzorků\n",
    "XY = np.random.uniform(-1, 1, size=(N, 2)) # matice náhodných vzorků (x_i, y_i) ~ U(<0,1> x <0,1>); v řádcích\n",
    "samples = 4*(np.sum(XY**2, axis=1)<=1) # pole vzorků veličin 4\\psi_K(X, Y)\n",
    "I_N = np.mean(samples)  \n",
    "print(\"I \\u2248 {:.6f}\".format(I_N)) "
   ]
  },
  {
   "cell_type": "markdown",
   "id": "08a7c940-f381-441b-8f32-e3e38b0b676f",
   "metadata": {},
   "source": [
    "Podle centrální limitní věty $I_N\\dot\\sim\\mathcal N(E(I_N), D(I_N))$."
   ]
  },
  {
   "cell_type": "code",
   "execution_count": 11,
   "id": "148ac8d2-e9c8-4749-8296-744880f812fc",
   "metadata": {},
   "outputs": [],
   "source": [
    "DEst = np.var(samples) # výběrový rozptyl (odhad rozptylu) veličiny 4\\psi_K\n",
    "sigEst = (DEst/N)**0.5 # odhad směrodatné odchylky výběrového průměru I_N"
   ]
  },
  {
   "cell_type": "code",
   "execution_count": 12,
   "id": "3e6e46fb-ed81-47ee-8f6c-a2c1ea2718c5",
   "metadata": {},
   "outputs": [
    {
     "name": "stdout",
     "output_type": "stream",
     "text": [
      "P(S ∈ <3.139954, 3.142629>) ≈ 0.99\n"
     ]
    }
   ],
   "source": [
    "alpha = 0.01\n",
    "d = stats.norm.ppf(1-alpha/2, loc=0, scale=sigEst)\n",
    "print(\"P(S \\u2208 <{:.6f}, {:.6f}>) \\u2248 {:.3g}\".format(I_N-d, I_N+d, 1-alpha))"
   ]
  }
 ],
 "metadata": {
  "kernelspec": {
   "display_name": "Python 3",
   "language": "python",
   "name": "python3"
  },
  "language_info": {
   "codemirror_mode": {
    "name": "ipython",
    "version": 3
   },
   "file_extension": ".py",
   "mimetype": "text/x-python",
   "name": "python",
   "nbconvert_exporter": "python",
   "pygments_lexer": "ipython3",
   "version": "3.8.10"
  },
  "widgets": {
   "application/vnd.jupyter.widget-state+json": {
    "state": {},
    "version_major": 2,
    "version_minor": 0
   }
  }
 },
 "nbformat": 4,
 "nbformat_minor": 5
}
